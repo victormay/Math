{
 "cells": [
  {
   "cell_type": "code",
   "execution_count": 2,
   "metadata": {},
   "outputs": [],
   "source": [
    "import pandas as pd\n",
    "import numpy as np\n",
    "from collections import Counter"
   ]
  },
  {
   "cell_type": "markdown",
   "metadata": {},
   "source": [
    "$\n",
    "\\begin{array}{c|c} \\qquad\\qquad&\\qquad销售\\qquad\\\\\\hline\\color{SkyBlue}{周一}& 3 \\\\ \\hline \\color{blue}{周二}& 7 \\\\ \\hline \\color{orange}{周三}&4\\\\\\hline \\color{Goldenrod}{周四}&6\\\\ \\hline \\color{green}{周五}&5\\\\\\end{array}\\\\\n",
    "$  \n",
    "$\n",
    "\\begin{array}{c|c}\\qquad\\qquad&\\qquad销售\\qquad&\\quad备货五个\\\\\\hline\\color{SkyBlue}{周一}& 3 \\\\\\hline \\color{blue}{周二}& 7&\\color{red}{不够} \\\\ \\hline \\color{orange}{周三}&4\\\\ \\hline \\color{Goldenrod}{周四}&6&\\color{red}{不够}\\\\\\hline \\color{green}{周五}&5\\\\\\end{array}\\\\\n",
    "$  \n",
    "$\n",
    "\\binom{4}{3}p^3(1-p)^1\\\\\n",
    "$  \n",
    "$\n",
    "\\binom{20}{7}p^7(1-p)^{13}\\\\\n",
    "$  \n",
    "$\n",
    "\\binom{n}{7}p^7(1-p)^{n-7}\\\\\n",
    "$\n",
    "\n",
    "$\n",
    "\\lim_{n\\to\\infty}\\binom{n}{k}p^k(1-p)^{n-k}\\\\\n",
    "$  \n",
    "$\n",
    "E(X)=np=\\mu\\\\\n",
    "$  \n",
    "$\n",
    "p=\\frac{\\mu}{n}\\\\\n",
    "$  \n",
    "$\n",
    "\\lim_{n\\to\\infty}\\binom{n}{k}p^k(1-p)^{n-k}=\\lim_{n\\to\\infty}\\binom{n}{k}\\left(\\frac{\\mu}{n}\\right)^k(1-\\frac{\\mu}{n})^{n-k}\\\\\n",
    "$\n",
    "$\n",
    "\\begin{align}\\lim_{n\\to\\infty}\\binom{n}{k}\\left(\\frac{\\mu}{n}\\right)^k(1-\\frac{\\mu}{n})^{n-k}&= \\lim_{n\\to\\infty}\\frac{n(n-1)(n-2)\\cdots(n-k+1)}{k!}\\frac{\\mu^k}{n^k}\\left(1-\\frac{\\mu}{n}\\right)^{n-k}\\\\ &=\\lim_{n\\to\\infty}\\frac{\\mu^k}{k!}\\frac{n}{n}\\cdot\\frac{n-1}{n}\\cdots\\frac{n-k+1}{n}\\left(1-\\frac{\\mu}{n}\\right)^{-k}\\left(1-\\frac{\\mu}{n}\\right)^n\\end{align}\\\\\n",
    "$\n",
    "$\n",
    "\\lim_{n\\to\\infty}\\binom{n}{k}\\left(\\frac{\\mu}{n}\\right)^k(1-\\frac{\\mu}{n})^{n-k}=\\frac{\\mu^k}{k!}e^{-\\mu}\\\\\n",
    "$\n",
    "\n",
    "$\n",
    "P(X=k)=\\frac{\\lambda^k}{k!}e^{-\\lambda}\\\\\n",
    "$\n",
    "\n",
    "$\n",
    "\\overline{X}=5\\\\\n",
    "$\n",
    "\n",
    "$\n",
    "\\overline{X}\\approx\\mu\\\\\n",
    "$\n",
    "$\n",
    "P(X=k)=\\frac{5^k}{k!}e^{-5}\\\\\n",
    "$"
   ]
  },
  {
   "cell_type": "markdown",
   "metadata": {},
   "source": [
    "##### 2.离散型随机变量及其分布\n",
    "**(0-1)分布**  \n",
    "$~~~~P\\{X=x\\} = p^k(1-p)^{1-k}\\\\~~~~k=0,1\\\\~~~~0<=p<=1$  \n",
    "**伯努利试验、二项分布**  \n",
    "$~~~~$设试验E只有两个可能结果：A及$\\bar{A}$,则称E为伯努利试验. 设$P(A)=p(0<p<1)$,此时$P(\\bar{A})=1-p$.将E独立重复地进行n次，则称这 一串重复的独立试验为n重伯努利试验。  \n",
    "**泊松分布**  \n",
    "\n"
   ]
  },
  {
   "cell_type": "markdown",
   "metadata": {},
   "source": [
    "##### 3.伯努利试验、二项分布\n"
   ]
  }
 ],
 "metadata": {
  "kernelspec": {
   "display_name": "py310_torch222_cu121",
   "language": "python",
   "name": "python3"
  },
  "language_info": {
   "codemirror_mode": {
    "name": "ipython",
    "version": 3
   },
   "file_extension": ".py",
   "mimetype": "text/x-python",
   "name": "python",
   "nbconvert_exporter": "python",
   "pygments_lexer": "ipython3",
   "version": "3.10.10"
  }
 },
 "nbformat": 4,
 "nbformat_minor": 2
}
