{
 "cells": [
  {
   "cell_type": "code",
   "execution_count": 288,
   "metadata": {},
   "outputs": [],
   "source": [
    "import numpy as np\n",
    "from itertools import permutations, product"
   ]
  },
  {
   "cell_type": "markdown",
   "metadata": {},
   "source": [
    "### 一、2-3阶行列式求解，对角线法制"
   ]
  },
  {
   "cell_type": "code",
   "execution_count": 77,
   "metadata": {},
   "outputs": [
    {
     "name": "stdout",
     "output_type": "stream",
     "text": [
      "[[1 2 3]\n",
      " [4 5 6]\n",
      " [7 8 9]]\n"
     ]
    },
    {
     "data": {
      "text/plain": [
       "(0, 0.0)"
      ]
     },
     "execution_count": 77,
     "metadata": {},
     "output_type": "execute_result"
    }
   ],
   "source": [
    "a = np.array([[1, 2, 3], [4, 5, 6], [7, 8, 9]])\n",
    "flip_a = np.flip(a, axis=1)\n",
    "print(a)\n",
    "# 主对角元素\n",
    "x1 = np.diagonal(a, offset=0)\n",
    "x2 = np.concatenate([np.diagonal(a, offset=1), np.diagonal(a, offset=-2)])\n",
    "x3 = np.concatenate([np.diagonal(a, offset=2), np.diagonal(a, offset=-1)])\n",
    "\n",
    "# 副对角元素\n",
    "y1 = np.diagonal(flip_a, offset=0)\n",
    "y2 = np.concatenate([np.diagonal(flip_a, offset=1), np.diagonal(flip_a, offset=-2)])\n",
    "y3 = np.concatenate([np.diagonal(flip_a, offset=2), np.diagonal(flip_a, offset=-1)])\n",
    "\n",
    "value = np.prod(x1) + np.prod(x2) + np.prod(x3) - np.prod(y1) - np.prod(y2) - np.prod(y3)\n",
    "value, np.linalg.det(a)"
   ]
  },
  {
   "cell_type": "markdown",
   "metadata": {},
   "source": [
    "### 二、n阶行列式求解"
   ]
  },
  {
   "cell_type": "code",
   "execution_count": 212,
   "metadata": {},
   "outputs": [],
   "source": [
    "# 行列式项\n",
    "n = 5\n",
    "a = np.random.randint(0, 10, n * n).reshape(n, n)\n",
    "x = np.arange(n).reshape(1, -1)\n",
    "y = np.array(list(permutations([i for i in range(n)])))\n",
    "x = x.repeat(len(y), axis=0)\n",
    "# a[x, y]\n"
   ]
  },
  {
   "cell_type": "code",
   "execution_count": 213,
   "metadata": {},
   "outputs": [],
   "source": [
    "# 计算逆序数\n",
    "n = 5\n",
    "pailie = np.array(list(permutations([i for i in range(n)])))\n",
    "z = []\n",
    "for i in pailie:\n",
    "    p = 1\n",
    "    nixu = 0\n",
    "    while p < len(i):\n",
    "        for j in i[:p]:\n",
    "            if j > i[p]:\n",
    "                nixu += 1\n",
    "        p += 1\n",
    "    z.append([nixu])\n",
    "z = np.array(z)\n",
    "# np.hstack([pailie, z])"
   ]
  },
  {
   "cell_type": "code",
   "execution_count": 221,
   "metadata": {},
   "outputs": [
    {
     "data": {
      "text/plain": [
       "(-7776, -7776.000000000009)"
      ]
     },
     "execution_count": 221,
     "metadata": {},
     "output_type": "execute_result"
    }
   ],
   "source": [
    "# n阶行列式展开\n",
    "n = 5\n",
    "a = np.random.randint(0, 10, n ** 2).reshape(n, n)\n",
    "\n",
    "# x循序排列\n",
    "x = np.arange(n).reshape(1, -1)\n",
    "# y全排列\n",
    "y = np.array(list(permutations(range(5))))\n",
    "x = x.repeat(y.shape[0], axis=0)\n",
    "# 根据逆序数获得符号\n",
    "z = []\n",
    "for i in y:\n",
    "    nixu = 0\n",
    "    p = 1\n",
    "    while p < len(i):\n",
    "        for j in i[:p]:\n",
    "            if j > i[p]:\n",
    "                nixu += 1\n",
    "        p += 1\n",
    "    z.append([1 if nixu % 2 == 0 else -1])\n",
    "z = np.array(z)\n",
    "\n",
    "# 根据xy坐标获取元素\n",
    "xy1 = a[x, y]\n",
    "# 获取每个排列数的乘积\n",
    "xy2 = xy1.prod(axis=1, keepdims=True)\n",
    "# 加上符号后求和\n",
    "(xy2 * z).sum(), np.linalg.det(a)"
   ]
  },
  {
   "cell_type": "code",
   "execution_count": 228,
   "metadata": {},
   "outputs": [
    {
     "data": {
      "text/plain": [
       "(10906.999999999982, -10906.999999999982, -10907.000000000002)"
      ]
     },
     "execution_count": 228,
     "metadata": {},
     "output_type": "execute_result"
    }
   ],
   "source": [
    "# n阶行列式的交换\n",
    "# 交换两行，行列式符号改变\n",
    "from random import sample\n",
    "n = 5\n",
    "a = np.random.randint(0, 10, n*n).reshape(n, n)\n",
    "b = a.copy()\n",
    "c = a.copy()\n",
    "x, y = sample(list(range(n)), 2)\n",
    "b[x], b[y] = a[y], a[x]\n",
    "c[:, x] = a[:, y]\n",
    "c[:, y] = a[:, x]\n",
    "\n",
    "np.linalg.det(a), np.linalg.det(b), np.linalg.det(c)"
   ]
  },
  {
   "cell_type": "markdown",
   "metadata": {},
   "source": [
    "### 三、行列式的性质"
   ]
  },
  {
   "cell_type": "code",
   "execution_count": 231,
   "metadata": {},
   "outputs": [
    {
     "data": {
      "text/plain": [
       "(2289.999999999999, 2289.999999999999)"
      ]
     },
     "execution_count": 231,
     "metadata": {},
     "output_type": "execute_result"
    }
   ],
   "source": [
    "# 行列式的装置值等于原行列式值\n",
    "n = 5\n",
    "a = np.random.randint(0, 9, n*n).reshape(n, n)\n",
    "np.linalg.det(a), np.linalg.det(a.T)"
   ]
  },
  {
   "cell_type": "code",
   "execution_count": 232,
   "metadata": {},
   "outputs": [],
   "source": [
    "# 两行两列交换行列式值变号"
   ]
  },
  {
   "cell_type": "code",
   "execution_count": 235,
   "metadata": {},
   "outputs": [
    {
     "data": {
      "text/plain": [
       "(0.0, 0.0)"
      ]
     },
     "execution_count": 235,
     "metadata": {},
     "output_type": "execute_result"
    }
   ],
   "source": [
    "# 两行两列相同，行列式值为0\n",
    "n = 5\n",
    "a = np.random.randint(0, 9, n*n).reshape(n, n)\n",
    "b = a.copy()\n",
    "a[3] = a[1]\n",
    "b[:, 1] = b[:, 3]\n",
    "np.linalg.det(a), np.linalg.det(b)"
   ]
  },
  {
   "cell_type": "code",
   "execution_count": 240,
   "metadata": {},
   "outputs": [
    {
     "data": {
      "text/plain": [
       "(-28899.999999999985, -28900.00000000002)"
      ]
     },
     "execution_count": 240,
     "metadata": {},
     "output_type": "execute_result"
    }
   ],
   "source": [
    "# 行或者列的公因子可以提出来\n",
    "n = 5\n",
    "a = np.random.randint(0, 9, n*n).reshape(n, n)\n",
    "b = a.copy()\n",
    "b[3] = b[3] * 5\n",
    "\n",
    "np.linalg.det(a) * 5,  np.linalg.det(b)"
   ]
  },
  {
   "cell_type": "code",
   "execution_count": 247,
   "metadata": {},
   "outputs": [
    {
     "data": {
      "text/plain": [
       "(-114.00000000000134, -114.00000000000053)"
      ]
     },
     "execution_count": 247,
     "metadata": {},
     "output_type": "execute_result"
    }
   ],
   "source": [
    "# 将某一行的元素 * 一个数加到另一行上，行列式结果不变\n",
    "\n",
    "n = 5\n",
    "a = np.random.randint(0, 9, n*n).reshape(n, n)\n",
    "b = a.copy()\n",
    "a[3] += a[1] * 3\n",
    "\n",
    "np.linalg.det(a),  np.linalg.det(b)"
   ]
  },
  {
   "cell_type": "markdown",
   "metadata": {},
   "source": [
    "### 四、行列式按行、列展开"
   ]
  },
  {
   "cell_type": "code",
   "execution_count": 264,
   "metadata": {},
   "outputs": [
    {
     "data": {
      "text/plain": [
       "340.0000000000001"
      ]
     },
     "execution_count": 264,
     "metadata": {},
     "output_type": "execute_result"
    }
   ],
   "source": [
    "# 余子式\n",
    "from random import sample\n",
    "n = 5\n",
    "x, y = sample(list(range(n)), 2)\n",
    "a = np.random.randint(0, 10, n*n).reshape(n, n)\n",
    "M = np.linalg.det(np.delete(np.delete(a, x, axis=0), y, axis=1))\n",
    "M"
   ]
  },
  {
   "cell_type": "code",
   "execution_count": 265,
   "metadata": {},
   "outputs": [
    {
     "data": {
      "text/plain": [
       "-255.99999999999994"
      ]
     },
     "execution_count": 265,
     "metadata": {},
     "output_type": "execute_result"
    }
   ],
   "source": [
    "# 代数余子式\n",
    "from random import sample\n",
    "n = 5\n",
    "x, y = sample(list(range(n)), 2)\n",
    "a = np.random.randint(0, 10, n*n).reshape(n, n)\n",
    "M = np.linalg.det(np.delete(np.delete(a, x, axis=0), y, axis=1))\n",
    "A = (-1)**(x + y) * M\n",
    "A"
   ]
  },
  {
   "cell_type": "code",
   "execution_count": 279,
   "metadata": {},
   "outputs": [
    {
     "data": {
      "text/plain": [
       "(894.0000000000018, 893.9999999999997)"
      ]
     },
     "execution_count": 279,
     "metadata": {},
     "output_type": "execute_result"
    }
   ],
   "source": [
    "# 行展开, 可以根据0最多的行或者列快速求解行列式值\n",
    "n = 5\n",
    "# 行列坐标\n",
    "x = np.array([0]*n)\n",
    "y = np.arange(5)\n",
    "xy = np.stack([x, y], axis=-1)\n",
    "\n",
    "a = np.random.randint(0, 10, n*n).reshape(n, n)\n",
    "\n",
    "# 很据行、列展开公式进行求解\n",
    "values = 0\n",
    "for i, j in xy:\n",
    "    M = np.linalg.det(\n",
    "        np.delete(np.delete(a, i, axis=0), j, axis=1)\n",
    "    )\n",
    "    values += (-1)**(i + j) * a[i, j] * M\n",
    "\n",
    "values, np.linalg.det(a)"
   ]
  },
  {
   "cell_type": "code",
   "execution_count": 345,
   "metadata": {},
   "outputs": [
    {
     "name": "stdout",
     "output_type": "stream",
     "text": [
      "[1 2 2 3 3 3 4 4 4 4]\n",
      "[0 0 1 0 1 2 0 1 2 3]\n",
      "[1. 2. 3. 4. 5.]\n"
     ]
    },
    {
     "data": {
      "text/plain": [
       "(288.0, 288.0000000000013)"
      ]
     },
     "execution_count": 345,
     "metadata": {},
     "output_type": "execute_result"
    }
   ],
   "source": [
    "# 范德蒙行列式\n",
    "\n",
    "a = np.ones((5, 5))\n",
    "for i in range(a.shape[0]):\n",
    "    if i >= 1:\n",
    "        if i == 1:\n",
    "            a[i] = [1, 2, 3, 4, 5]\n",
    "        else:\n",
    "            a[i] = a[1] ** i\n",
    "z = list(range(5))\n",
    "xy = np.array(list(product(z, z)))\n",
    "xy = xy[xy[:, 0] > xy[:, 1]]\n",
    "print(xy[:, 0])\n",
    "print(xy[:, 1])\n",
    "print(a[1])\n",
    "np.prod(a[1][xy[:, 0]] - a[1][xy[:, 1]]), np.linalg.det(a)"
   ]
  },
  {
   "cell_type": "code",
   "execution_count": 346,
   "metadata": {},
   "outputs": [],
   "source": [
    "# 异乘变0定理"
   ]
  },
  {
   "cell_type": "markdown",
   "metadata": {},
   "source": [
    "### 五、克莱姆法则"
   ]
  },
  {
   "cell_type": "code",
   "execution_count": 357,
   "metadata": {},
   "outputs": [
    {
     "data": {
      "text/plain": [
       "(-0.5909090909090908, 0.22727272727272727, 1.3636363636363635)"
      ]
     },
     "execution_count": 357,
     "metadata": {},
     "output_type": "execute_result"
    }
   ],
   "source": [
    "weights = np.array([[1, 1, 1], [1, -1, 5], [-1, 1, 6]])\n",
    "res = np.array([1, 6, 9])\n",
    "\n",
    "D = np.linalg.det(weights)\n",
    "D1 = weights.copy()\n",
    "D1[:, 0] = res\n",
    "D1 = np.linalg.det(D1)\n",
    "D2 = weights.copy()\n",
    "D2[:, 1] = res\n",
    "D2 = np.linalg.det(D2)\n",
    "D3 = weights.copy()\n",
    "D3[:, 2] = res\n",
    "D3 = np.linalg.det(D3)\n",
    "\n",
    "x1 = D1 / D\n",
    "x2 = D2 / D\n",
    "x3 = D3 / D\n",
    "x1, x2, x3"
   ]
  }
 ],
 "metadata": {
  "kernelspec": {
   "display_name": "py310_torch222_cu121",
   "language": "python",
   "name": "python3"
  },
  "language_info": {
   "codemirror_mode": {
    "name": "ipython",
    "version": 3
   },
   "file_extension": ".py",
   "mimetype": "text/x-python",
   "name": "python",
   "nbconvert_exporter": "python",
   "pygments_lexer": "ipython3",
   "version": "3.10.10"
  }
 },
 "nbformat": 4,
 "nbformat_minor": 2
}
