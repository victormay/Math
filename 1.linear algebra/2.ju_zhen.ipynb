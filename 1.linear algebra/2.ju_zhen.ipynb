{
 "cells": [
  {
   "cell_type": "code",
   "execution_count": 1,
   "metadata": {},
   "outputs": [],
   "source": [
    "import numpy as np"
   ]
  },
  {
   "cell_type": "markdown",
   "metadata": {},
   "source": [
    "### 一、基本概念"
   ]
  },
  {
   "cell_type": "code",
   "execution_count": 51,
   "metadata": {},
   "outputs": [
    {
     "data": {
      "text/plain": [
       "array([[1., 0., 0.],\n",
       "       [0., 1., 0.],\n",
       "       [0., 0., 1.]])"
      ]
     },
     "execution_count": 51,
     "metadata": {},
     "output_type": "execute_result"
    }
   ],
   "source": [
    "# m x n 矩阵\n",
    "m = 3\n",
    "n = 2\n",
    "a = np.random.rand(3, 2)\n",
    "a\n",
    "\n",
    "# 0矩阵\n",
    "np.zeros((3, 2))\n",
    "\n",
    "# 行、列向量\n",
    "np.array([1, 2, 3]).shape\n",
    "\n",
    "# 方阵\n",
    "np.random.rand(3, 3)\n",
    "\n",
    "# 上三角\n",
    "np.triu(np.ones((3, 3)))\n",
    "\n",
    "# 下三角\n",
    "np.tril(np.ones((3, 3)))\n",
    "\n",
    "# 单位阵\n",
    "np.eye(3, 3)\n",
    "\n"
   ]
  }
 ],
 "metadata": {
  "kernelspec": {
   "display_name": "py310_torch222_cu121",
   "language": "python",
   "name": "python3"
  },
  "language_info": {
   "codemirror_mode": {
    "name": "ipython",
    "version": 3
   },
   "file_extension": ".py",
   "mimetype": "text/x-python",
   "name": "python",
   "nbconvert_exporter": "python",
   "pygments_lexer": "ipython3",
   "version": "3.10.10"
  }
 },
 "nbformat": 4,
 "nbformat_minor": 2
}
