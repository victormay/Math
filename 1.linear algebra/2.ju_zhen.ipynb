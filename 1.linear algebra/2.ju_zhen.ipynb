{
 "cells": [
  {
   "cell_type": "code",
   "execution_count": 1,
   "metadata": {},
   "outputs": [],
   "source": [
    "import numpy as np"
   ]
  },
  {
   "cell_type": "markdown",
   "metadata": {},
   "source": [
    "### 一、基本概念"
   ]
  },
  {
   "cell_type": "code",
   "execution_count": 22,
   "metadata": {},
   "outputs": [
    {
     "data": {
      "text/plain": [
       "True"
      ]
     },
     "execution_count": 22,
     "metadata": {},
     "output_type": "execute_result"
    }
   ],
   "source": [
    "# m x n 矩阵\n",
    "m = 3\n",
    "n = 2\n",
    "a = np.random.rand(3, 2)\n",
    "a\n",
    "\n",
    "# 0矩阵\n",
    "np.zeros((3, 2))\n",
    "\n",
    "# 行、列向量\n",
    "np.array([1, 2, 3]).shape\n",
    "\n",
    "# 方阵\n",
    "np.random.rand(3, 3)\n",
    "\n",
    "# 上三角\n",
    "np.triu(np.ones((3, 3)))\n",
    "\n",
    "# 下三角\n",
    "np.tril(np.ones((3, 3)))\n",
    "\n",
    "# 单位阵\n",
    "np.eye(3, 3)\n",
    "\n",
    "# 对称矩阵\n",
    "demo = np.triu(np.random.rand(3, 3))\n",
    "demo += demo.T - np.diag(demo.diagonal())\n",
    "(demo == demo.T).all()"
   ]
  },
  {
   "cell_type": "markdown",
   "metadata": {},
   "source": [
    "### 二、矩阵的运算"
   ]
  },
  {
   "cell_type": "code",
   "execution_count": 278,
   "metadata": {},
   "outputs": [
    {
     "data": {
      "text/plain": [
       "8"
      ]
     },
     "execution_count": 278,
     "metadata": {},
     "output_type": "execute_result"
    }
   ],
   "source": [
    "a = np.random.randint(0, 10, 9).reshape(3, 3)\n",
    "b = np.random.randint(0, 10, 9).reshape(3, 3)\n",
    "c = np.random.randint(0, 10, 9).reshape(3, 3)\n",
    "e = np.eye(*a.shape)\n",
    "\n",
    "# + 注意浮点数\n",
    "(a + b + c == (a + b) + c).all()\n",
    "(a + b + c == a + (b + c)).all()\n",
    "(a + b + c == (a + c) + b).all()\n",
    "# 广播\n",
    "a + b[0]\n",
    "a + b[:, 0]\n",
    "\n",
    "# 哈达玛积\n",
    "5 * a\n",
    "b * a\n",
    "# 广播\n",
    "b[0] * a\n",
    "b[:, 0] * a\n",
    "\n",
    "# 点乘 a.shape[1] = b.shape[0]\n",
    "a.dot(b)\n",
    "\n",
    "# 幂运算\n",
    "np.power(a, 2)\n",
    "\n",
    "# 转置\n",
    "((a + b).T == a.T + b.T).all()\n",
    "((a.dot(b)).T == b.T.dot(a.T)).all()\n",
    "\n",
    "# 逆矩阵\n",
    "np.linalg.det(a) != 0\n",
    "inv_a = np.linalg.inv(a)\n",
    "np.isclose(a.dot(inv_a), inv_a.dot(a)).all()\n",
    "\n",
    "# 伴随矩阵, 注意类型\n",
    "a_star = np.empty_like(a, dtype=float)\n",
    "row, col = a.shape\n",
    "for i in range(row):\n",
    "    for j in range(col):\n",
    "        M = np.delete(np.delete(a, i, axis=0), j, axis=1)\n",
    "        A = (-1) ** (i + j) * np.linalg.det(M)\n",
    "        a_star[j, i] = A\n",
    "# print(a_star / np.linalg.det(a), inv_a, sep=\"\\n\\n\")\n",
    "np.isclose(a_star / np.linalg.det(a), inv_a).all()\n",
    "\n",
    "d = a.copy()\n",
    "d -= np.diag(d.diagonal())\n",
    "d *= np.flip(d, axis=0)\n",
    "d\n",
    "\n",
    "# 逆矩阵的运算\n",
    "x = np.linalg.inv(5 * a)\n",
    "y = 1/ 5 * np.linalg.inv(a)\n",
    "np.isclose(x, y)\n",
    "\n",
    "x = np.linalg.inv(a.dot(b))\n",
    "y = np.linalg.inv(b).dot(np.linalg.inv(a))\n",
    "np.isclose(x, y)\n",
    "\n",
    "np.isclose(\n",
    "    np.linalg.inv(a.T),\n",
    "    np.linalg.inv(a).T\n",
    ").all()\n",
    "\n",
    "1 / np.linalg.det(a), np.linalg.det(np.linalg.inv(a))\n",
    "\n",
    "\n",
    "# 矩阵的初等变换\n",
    "\n",
    "# 1.对调两行、列\n",
    "# 2.某一行、列 * k\n",
    "# 3.某一行、列 * k 加到另外的行、列\n",
    "\n",
    "# 矩阵的秩 实用例子LoRa\n",
    "a_ = np.random.randn(9, 9)\n",
    "a_[8] = 0\n",
    "np.linalg.matrix_rank(a_)"
   ]
  }
 ],
 "metadata": {
  "kernelspec": {
   "display_name": "py310_torch222_cu121",
   "language": "python",
   "name": "python3"
  },
  "language_info": {
   "codemirror_mode": {
    "name": "ipython",
    "version": 3
   },
   "file_extension": ".py",
   "mimetype": "text/x-python",
   "name": "python",
   "nbconvert_exporter": "python",
   "pygments_lexer": "ipython3",
   "version": "3.10.10"
  }
 },
 "nbformat": 4,
 "nbformat_minor": 2
}
